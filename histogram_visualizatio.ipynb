{
 "cells": [
  {
   "cell_type": "code",
   "execution_count": 6,
   "metadata": {},
   "outputs": [],
   "source": [
    "import numpy as np\n",
    "import pandas as pd\n",
    "import seaborn as sns\n",
    "import matplotlib.pyplot as plt"
   ]
  },
  {
   "cell_type": "code",
   "execution_count": 7,
   "metadata": {},
   "outputs": [],
   "source": [
    "df=pd.read_csv(r\"E:\\tableau\\iris.csv\")\n"
   ]
  },
  {
   "cell_type": "code",
   "execution_count": 5,
   "metadata": {},
   "outputs": [
    {
     "data": {
      "text/html": [
       "<div>\n",
       "<style scoped>\n",
       "    .dataframe tbody tr th:only-of-type {\n",
       "        vertical-align: middle;\n",
       "    }\n",
       "\n",
       "    .dataframe tbody tr th {\n",
       "        vertical-align: top;\n",
       "    }\n",
       "\n",
       "    .dataframe thead th {\n",
       "        text-align: right;\n",
       "    }\n",
       "</style>\n",
       "<table border=\"1\" class=\"dataframe\">\n",
       "  <thead>\n",
       "    <tr style=\"text-align: right;\">\n",
       "      <th></th>\n",
       "      <th>Id</th>\n",
       "      <th>SepalLengthCm</th>\n",
       "      <th>SepalWidthCm</th>\n",
       "      <th>PetalLengthCm</th>\n",
       "      <th>PetalWidthCm</th>\n",
       "      <th>Species</th>\n",
       "    </tr>\n",
       "  </thead>\n",
       "  <tbody>\n",
       "    <tr>\n",
       "      <th>0</th>\n",
       "      <td>1</td>\n",
       "      <td>5.1</td>\n",
       "      <td>3.5</td>\n",
       "      <td>1.4</td>\n",
       "      <td>0.2</td>\n",
       "      <td>Iris-setosa</td>\n",
       "    </tr>\n",
       "    <tr>\n",
       "      <th>1</th>\n",
       "      <td>2</td>\n",
       "      <td>4.9</td>\n",
       "      <td>3.0</td>\n",
       "      <td>1.4</td>\n",
       "      <td>0.2</td>\n",
       "      <td>Iris-setosa</td>\n",
       "    </tr>\n",
       "    <tr>\n",
       "      <th>2</th>\n",
       "      <td>3</td>\n",
       "      <td>4.7</td>\n",
       "      <td>3.2</td>\n",
       "      <td>1.3</td>\n",
       "      <td>0.2</td>\n",
       "      <td>Iris-setosa</td>\n",
       "    </tr>\n",
       "    <tr>\n",
       "      <th>3</th>\n",
       "      <td>4</td>\n",
       "      <td>4.6</td>\n",
       "      <td>3.1</td>\n",
       "      <td>1.5</td>\n",
       "      <td>0.2</td>\n",
       "      <td>Iris-setosa</td>\n",
       "    </tr>\n",
       "    <tr>\n",
       "      <th>4</th>\n",
       "      <td>5</td>\n",
       "      <td>5.0</td>\n",
       "      <td>3.6</td>\n",
       "      <td>1.4</td>\n",
       "      <td>0.2</td>\n",
       "      <td>Iris-setosa</td>\n",
       "    </tr>\n",
       "    <tr>\n",
       "      <th>5</th>\n",
       "      <td>6</td>\n",
       "      <td>5.4</td>\n",
       "      <td>3.9</td>\n",
       "      <td>1.7</td>\n",
       "      <td>0.4</td>\n",
       "      <td>Iris-setosa</td>\n",
       "    </tr>\n",
       "    <tr>\n",
       "      <th>6</th>\n",
       "      <td>7</td>\n",
       "      <td>4.6</td>\n",
       "      <td>3.4</td>\n",
       "      <td>1.4</td>\n",
       "      <td>0.3</td>\n",
       "      <td>Iris-setosa</td>\n",
       "    </tr>\n",
       "    <tr>\n",
       "      <th>7</th>\n",
       "      <td>8</td>\n",
       "      <td>5.0</td>\n",
       "      <td>3.4</td>\n",
       "      <td>1.5</td>\n",
       "      <td>0.2</td>\n",
       "      <td>Iris-setosa</td>\n",
       "    </tr>\n",
       "    <tr>\n",
       "      <th>8</th>\n",
       "      <td>9</td>\n",
       "      <td>4.4</td>\n",
       "      <td>2.9</td>\n",
       "      <td>1.4</td>\n",
       "      <td>0.2</td>\n",
       "      <td>Iris-setosa</td>\n",
       "    </tr>\n",
       "    <tr>\n",
       "      <th>9</th>\n",
       "      <td>10</td>\n",
       "      <td>4.9</td>\n",
       "      <td>3.1</td>\n",
       "      <td>1.5</td>\n",
       "      <td>0.1</td>\n",
       "      <td>Iris-setosa</td>\n",
       "    </tr>\n",
       "  </tbody>\n",
       "</table>\n",
       "</div>"
      ],
      "text/plain": [
       "   Id  SepalLengthCm  SepalWidthCm  PetalLengthCm  PetalWidthCm      Species\n",
       "0   1            5.1           3.5            1.4           0.2  Iris-setosa\n",
       "1   2            4.9           3.0            1.4           0.2  Iris-setosa\n",
       "2   3            4.7           3.2            1.3           0.2  Iris-setosa\n",
       "3   4            4.6           3.1            1.5           0.2  Iris-setosa\n",
       "4   5            5.0           3.6            1.4           0.2  Iris-setosa\n",
       "5   6            5.4           3.9            1.7           0.4  Iris-setosa\n",
       "6   7            4.6           3.4            1.4           0.3  Iris-setosa\n",
       "7   8            5.0           3.4            1.5           0.2  Iris-setosa\n",
       "8   9            4.4           2.9            1.4           0.2  Iris-setosa\n",
       "9  10            4.9           3.1            1.5           0.1  Iris-setosa"
      ]
     },
     "execution_count": 5,
     "metadata": {},
     "output_type": "execute_result"
    }
   ],
   "source": [
    "df.head(10)"
   ]
  },
  {
   "cell_type": "code",
   "execution_count": 17,
   "metadata": {},
   "outputs": [
    {
     "data": {
      "text/plain": [
       "(array([ 1.,  3.,  0.,  1.,  0.,  4.,  2.,  0.,  5.,  0.,  6., 10.,  0.,\n",
       "         9.,  0.,  4.,  1.,  0.,  6.,  0.,  7.,  6.,  0.,  8.,  0.,  7.,\n",
       "         3.,  0.,  6.,  0.,  6.,  4.,  0.,  9.,  0.,  7.,  5.,  0.,  2.,\n",
       "         0.,  8.,  3.,  0.,  4.,  0.,  1.,  1.,  0.,  3.,  1.,  0.,  1.,\n",
       "         0.,  0.,  1.,  0.,  4.,  0.,  0.,  1.]),\n",
       " array([4.3 , 4.36, 4.42, 4.48, 4.54, 4.6 , 4.66, 4.72, 4.78, 4.84, 4.9 ,\n",
       "        4.96, 5.02, 5.08, 5.14, 5.2 , 5.26, 5.32, 5.38, 5.44, 5.5 , 5.56,\n",
       "        5.62, 5.68, 5.74, 5.8 , 5.86, 5.92, 5.98, 6.04, 6.1 , 6.16, 6.22,\n",
       "        6.28, 6.34, 6.4 , 6.46, 6.52, 6.58, 6.64, 6.7 , 6.76, 6.82, 6.88,\n",
       "        6.94, 7.  , 7.06, 7.12, 7.18, 7.24, 7.3 , 7.36, 7.42, 7.48, 7.54,\n",
       "        7.6 , 7.66, 7.72, 7.78, 7.84, 7.9 ]),\n",
       " <BarContainer object of 60 artists>)"
      ]
     },
     "execution_count": 17,
     "metadata": {},
     "output_type": "execute_result"
    },
    {
     "data": {
      "image/png": "[encoded data removed]",
      "text/plain": [
       "<Figure size 640x480 with 1 Axes>"
      ]
     },
     "metadata": {},
     "output_type": "display_data"
    }
   ],
   "source": [
    "plt.hist(df['SepalLengthCm'],bins=60)"
   ]
  },
  {
   "cell_type": "code",
   "execution_count": 20,
   "metadata": {},
   "outputs": [
    {
     "data": {
      "text/plain": [
       "(array([ 1.,  0.,  0.,  3.,  0.,  4.,  3.,  0.,  8.,  0.,  5.,  9.,  0.,\n",
       "        14., 10.,  0., 26.,  0., 12.,  0., 13.,  6.,  0., 12.,  0.,  6.,\n",
       "         3.,  0.,  3.,  6.,  0.,  2.,  0.,  1.,  1.,  0.,  1.,  0.,  0.,\n",
       "         1.]),\n",
       " array([2.  , 2.06, 2.12, 2.18, 2.24, 2.3 , 2.36, 2.42, 2.48, 2.54, 2.6 ,\n",
       "        2.66, 2.72, 2.78, 2.84, 2.9 , 2.96, 3.02, 3.08, 3.14, 3.2 , 3.26,\n",
       "        3.32, 3.38, 3.44, 3.5 , 3.56, 3.62, 3.68, 3.74, 3.8 , 3.86, 3.92,\n",
       "        3.98, 4.04, 4.1 , 4.16, 4.22, 4.28, 4.34, 4.4 ]),\n",
       " <BarContainer object of 40 artists>)"
      ]
     },
     "execution_count": 20,
     "metadata": {},
     "output_type": "execute_result"
    },
    {
     "data": {
      "image/png": "[encoded data removed]",
      "text/plain": [
       "<Figure size 640x480 with 1 Axes>"
      ]
     },
     "metadata": {},
     "output_type": "display_data"
    }
   ],
   "source": [
    "plt.hist(df['SepalWidthCm'],bins=40)"
   ]
  },
  {
   "cell_type": "code",
   "execution_count": 23,
   "metadata": {},
   "outputs": [
    {
     "data": {
      "text/plain": [
       "(array([ 1.,  1.,  0.,  2.,  0.,  7., 12.,  0., 14.,  0.,  7.,  4.,  0.,\n",
       "         0.,  0.,  2.,  0.,  0.,  0.,  0.,  0.,  0.,  0.,  0.,  0.,  0.,\n",
       "         0.,  0.,  0.,  0.,  0.,  0.,  0.,  1.,  0.,  0.,  0.,  0.,  2.,\n",
       "         0.,  0.,  0.,  2.,  0.,  1.,  1.,  0.,  1.,  0.,  3.,  5.,  0.,\n",
       "         3.,  0.,  4.,  2.,  0.,  4.,  0.,  8.,  0.,  3.,  5.,  0.,  4.,\n",
       "         0.,  5.,  4.,  0.,  8.,  0.,  2.,  2.,  0.,  2.,  0.,  3.,  6.,\n",
       "         0.,  3.,  0.,  3.,  0.,  2.,  2.,  0.,  3.,  0.,  0.,  1.,  0.,\n",
       "         1.,  0.,  0.,  1.,  0.,  2.,  0.,  0.,  1.]),\n",
       " array([1.   , 1.059, 1.118, 1.177, 1.236, 1.295, 1.354, 1.413, 1.472,\n",
       "        1.531, 1.59 , 1.649, 1.708, 1.767, 1.826, 1.885, 1.944, 2.003,\n",
       "        2.062, 2.121, 2.18 , 2.239, 2.298, 2.357, 2.416, 2.475, 2.534,\n",
       "        2.593, 2.652, 2.711, 2.77 , 2.829, 2.888, 2.947, 3.006, 3.065,\n",
       "        3.124, 3.183, 3.242, 3.301, 3.36 , 3.419, 3.478, 3.537, 3.596,\n",
       "        3.655, 3.714, 3.773, 3.832, 3.891, 3.95 , 4.009, 4.068, 4.127,\n",
       "        4.186, 4.245, 4.304, 4.363, 4.422, 4.481, 4.54 , 4.599, 4.658,\n",
       "        4.717, 4.776, 4.835, 4.894, 4.953, 5.012, 5.071, 5.13 , 5.189,\n",
       "        5.248, 5.307, 5.366, 5.425, 5.484, 5.543, 5.602, 5.661, 5.72 ,\n",
       "        5.779, 5.838, 5.897, 5.956, 6.015, 6.074, 6.133, 6.192, 6.251,\n",
       "        6.31 , 6.369, 6.428, 6.487, 6.546, 6.605, 6.664, 6.723, 6.782,\n",
       "        6.841, 6.9  ]),\n",
       " <BarContainer object of 100 artists>)"
      ]
     },
     "execution_count": 23,
     "metadata": {},
     "output_type": "execute_result"
    },
    {
     "data": {
      "image/png": "[encoded data removed]",
      "text/plain": [
       "<Figure size 640x480 with 1 Axes>"
      ]
     },
     "metadata": {},
     "output_type": "display_data"
    }
   ],
   "source": [
    "plt.hist(df['PetalLengthCm'],bins=100)"
   ]
  },
  {
   "cell_type": "code",
   "execution_count": 26,
   "metadata": {},
   "outputs": [
    {
     "data": {
      "text/plain": [
       "(array([ 6.,  0., 28.,  0.,  7.,  0.,  7.,  0.,  1.,  0.,  1.,  0.,  0.,\n",
       "         0.,  0.,  0.,  0.,  0.,  7.,  0.,  3.,  0.,  5.,  0.,  0., 13.,\n",
       "         0.,  8.,  0., 12.,  0.,  4.,  0.,  2.,  0., 12.,  0.,  5.,  0.,\n",
       "         6.,  0.,  6.,  0.,  3.,  0.,  8.,  0.,  3.,  0.,  3.]),\n",
       " array([0.1  , 0.148, 0.196, 0.244, 0.292, 0.34 , 0.388, 0.436, 0.484,\n",
       "        0.532, 0.58 , 0.628, 0.676, 0.724, 0.772, 0.82 , 0.868, 0.916,\n",
       "        0.964, 1.012, 1.06 , 1.108, 1.156, 1.204, 1.252, 1.3  , 1.348,\n",
       "        1.396, 1.444, 1.492, 1.54 , 1.588, 1.636, 1.684, 1.732, 1.78 ,\n",
       "        1.828, 1.876, 1.924, 1.972, 2.02 , 2.068, 2.116, 2.164, 2.212,\n",
       "        2.26 , 2.308, 2.356, 2.404, 2.452, 2.5  ]),\n",
       " <BarContainer object of 50 artists>)"
      ]
     },
     "execution_count": 26,
     "metadata": {},
     "output_type": "execute_result"
    },
    {
     "data": {
      "image/png": "[encoded data removed]",
      "text/plain": [
       "<Figure size 640x480 with 1 Axes>"
      ]
     },
     "metadata": {},
     "output_type": "display_data"
    }
   ],
   "source": [
    "plt.hist(df['PetalWidthCm'],bins=50)"
   ]
  },
  {
   "cell_type": "code",
   "execution_count": null,
   "metadata": {},
   "outputs": [],
   "source": []
  }
 ],
 "metadata": {
  "kernelspec": {
   "display_name": "Python 3",
   "language": "python",
   "name": "python3"
  },
  "language_info": {
   "codemirror_mode": {
    "name": "ipython",
    "version": 3
   },
   "file_extension": ".py",
   "mimetype": "text/x-python",
   "name": "python",
   "nbconvert_exporter": "python",
   "pygments_lexer": "ipython3",
   "version": "3.10.7"
  },
  "orig_nbformat": 4
 },
 "nbformat": 4,
 "nbformat_minor": 2
}
